{
 "cells": [
  {
   "cell_type": "code",
   "execution_count": 120,
   "metadata": {},
   "outputs": [],
   "source": [
    "import librosa\n",
    "import numpy as np\n",
    "import scipy"
   ]
  },
  {
   "cell_type": "code",
   "execution_count": 160,
   "metadata": {},
   "outputs": [],
   "source": [
    "n_fft = 1024\n",
    "hop_length = 768\n",
    "n_mels = 128\n",
    "n_mfcc = 18\n",
    "htk = False"
   ]
  },
  {
   "cell_type": "code",
   "execution_count": 192,
   "metadata": {},
   "outputs": [
    {
     "data": {
      "text/plain": [
       "array([ 6.0769954, 20.773346 , 16.251583 ], dtype=float32)"
      ]
     },
     "execution_count": 192,
     "metadata": {},
     "output_type": "execute_result"
    }
   ],
   "source": [
    "y, sr = librosa.load(\"snare.wav\", sr=44100, duration = 0.04)\n",
    "\n",
    "mel_basis = librosa.filters.mel(sr, n_fft=n_fft, n_mels=n_mels, htk=htk)\n",
    "\n",
    "stft = librosa.stft(y, n_fft = n_fft, hop_length = hop_length)\n",
    "stft = abs(stft)**2\n",
    "\n",
    "melspectrogram = np.dot(mel_basis, stft)\n",
    "S = librosa.power_to_db(melspectrogram)\n",
    "\n",
    "dct = scipy.fftpack.dct(S, axis=0, type=2, norm='ortho')[:n_mfcc]\n",
    "dct[6]"
   ]
  },
  {
   "cell_type": "code",
   "execution_count": 187,
   "metadata": {},
   "outputs": [
    {
     "data": {
      "text/plain": [
       "array([[-2.86003326e+02, -3.34808105e+02, -3.69137604e+02],\n",
       "       [ 6.87944641e+01,  2.83664112e+01,  3.45792770e+01],\n",
       "       [-1.12308792e+02, -7.76358643e+01, -5.18394089e+01],\n",
       "       [ 5.42328796e+01,  8.86547318e+01,  8.60850906e+01],\n",
       "       [-1.98972530e+01, -2.22195187e+01, -2.10354557e+01],\n",
       "       [-2.00221014e+00,  2.21133156e+01,  2.21021461e+01],\n",
       "       [ 6.07699537e+00,  2.07733459e+01,  1.62515831e+01],\n",
       "       [ 1.65625725e+01,  1.50623417e+01, -6.57583177e-01],\n",
       "       [ 6.83916092e-01,  1.03626194e+01,  7.85667956e-01],\n",
       "       [ 1.63335991e+01,  2.43107834e+01,  1.58602848e+01],\n",
       "       [ 4.17882442e-01,  2.75050879e+00,  5.97928524e+00],\n",
       "       [ 7.03080416e-01,  5.55301905e+00,  2.33952093e+00],\n",
       "       [-3.14959598e+00,  1.25797768e+01,  1.42104876e+00],\n",
       "       [ 1.08754606e+01,  1.21074438e+01,  1.05043144e+01],\n",
       "       [ 1.48730907e+01,  6.08099842e+00,  5.88224792e+00],\n",
       "       [-6.30869818e+00, -3.08710098e+00, -3.26855993e+00],\n",
       "       [ 4.90730190e+00,  1.30602665e+01,  1.27385254e+01],\n",
       "       [-4.60074234e+00, -2.08183646e-01, -3.08020115e+00]], dtype=float32)"
      ]
     },
     "execution_count": 187,
     "metadata": {},
     "output_type": "execute_result"
    }
   ],
   "source": [
    "y, sr = librosa.load(\"snare.wav\", sr=44100, duration = 0.04)\n",
    "mfcc = librosa.feature.mfcc(y, sr= sr, n_mfcc = 18, n_fft = n_fft, hop_length = hop_length, n_mels = n_mels, htk = htk)\n",
    "mfcc"
   ]
  },
  {
   "cell_type": "code",
   "execution_count": 123,
   "metadata": {},
   "outputs": [],
   "source": [
    "#number of samples to pad is: floor(n_fft/2)\n",
    "#reflect over first and last values\n",
    "#number Of FFT Frames is: 1 + int((len(y) - frame_length) / hop_length)\n",
    "#perform stft\n",
    "\n"
   ]
  },
  {
   "cell_type": "code",
   "execution_count": null,
   "metadata": {},
   "outputs": [],
   "source": [
    "def stft(y, n_fft=2048, hop_length=None, win_length=None, window='hann',\n",
    "         center=True, dtype=np.complex64, pad_mode='reflect'):\n",
    "\n",
    "    # By default, use the entire frame\n",
    "    if win_length is None:\n",
    "        win_length = n_fft\n",
    "\n",
    "    # Set the default hop, if it's not already specified\n",
    "    if hop_length is None:\n",
    "        hop_length = int(win_length // 4)\n",
    "\n",
    "    fft_window = get_window(window, win_length, fftbins=True)\n",
    "\n",
    "    # Pad the window out to n_fft size\n",
    "    fft_window = util.pad_center(fft_window, n_fft)\n",
    "\n",
    "    # Reshape so that the window can be broadcast\n",
    "    fft_window = fft_window.reshape((-1, 1))\n",
    "\n",
    "    # Check audio is valid\n",
    "    util.valid_audio(y)\n",
    "\n",
    "    # Pad the time series so that frames are centered\n",
    "    if center:\n",
    "        y = np.pad(y, int(n_fft // 2), mode=pad_mode)\n",
    "\n",
    "    # Window the time series.\n",
    "    y_frames = util.frame(y, frame_length=n_fft, hop_length=hop_length)\n",
    "\n",
    "    # Pre-allocate the STFT matrix\n",
    "    stft_matrix = np.empty((int(1 + n_fft // 2), y_frames.shape[1]),\n",
    "                           dtype=dtype,\n",
    "                           order='F')\n",
    "\n",
    "    # how many columns can we fit within MAX_MEM_BLOCK?\n",
    "    n_columns = int(util.MAX_MEM_BLOCK / (stft_matrix.shape[0] *\n",
    "                                          stft_matrix.itemsize))\n",
    "\n",
    "    for bl_s in range(0, stft_matrix.shape[1], n_columns):\n",
    "        bl_t = min(bl_s + n_columns, stft_matrix.shape[1])\n",
    "\n",
    "        stft_matrix[:, bl_s:bl_t] = fft.fft(fft_window *\n",
    "                                            y_frames[:, bl_s:bl_t],\n",
    "                                            axis=0)[:stft_matrix.shape[0]]\n",
    "\n",
    "    return stft_matrix"
   ]
  },
  {
   "cell_type": "code",
   "execution_count": null,
   "metadata": {},
   "outputs": [],
   "source": [
    "def mfcc(y=None, sr=22050, S=None, n_mfcc=20, dct_type=2, norm='ortho', **kwargs):\n",
    "\n",
    "    if S is None:\n",
    "        S = power_to_db(melspectrogram(y=y, sr=sr, **kwargs))\n",
    "\n",
    "    return scipy.fftpack.dct(S, axis=0, type=dct_type, norm=norm)[:n_mfcc]"
   ]
  }
 ],
 "metadata": {
  "kernelspec": {
   "display_name": "Python 3",
   "language": "python",
   "name": "python3"
  },
  "language_info": {
   "codemirror_mode": {
    "name": "ipython",
    "version": 3
   },
   "file_extension": ".py",
   "mimetype": "text/x-python",
   "name": "python",
   "nbconvert_exporter": "python",
   "pygments_lexer": "ipython3",
   "version": "3.8.1"
  }
 },
 "nbformat": 4,
 "nbformat_minor": 2
}
